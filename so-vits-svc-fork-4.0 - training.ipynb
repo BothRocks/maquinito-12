{
  "cells": [
    {
      "cell_type": "code",
      "execution_count": null,
      "metadata": {
        "id": "pUxnE8WI92Zz"
      },
      "outputs": [],
      "source": [
        "!nvidia-smi"
      ]
    },
    {
      "cell_type": "code",
      "execution_count": null,
      "metadata": {
        "id": "cxMQEMHV92Zz"
      },
      "outputs": [],
      "source": [
        "from google.colab import drive, files\n",
        "drive.mount('/content/drive')"
      ]
    },
    {
      "cell_type": "code",
      "execution_count": null,
      "metadata": {
        "id": "a5D7mWJE92Zz"
      },
      "outputs": [],
      "source": [
        "!python -m pip install -U pip wheel\n",
        "%pip install -U ipython\n",
        "%pip install -U so-vits-svc-fork\n",
        "\n",
        "from IPython.display import clear_output\n",
        "clear_output()\n",
        "\n",
        "!mkdir -p \"dataset_raw_raw\"\n",
        "!mkdir -p \"dataset_raw\""
      ]
    },
    {
      "cell_type": "code",
      "source": [
        "DATASET_NAME = \"raffaella\" #@param [\"felipevi\", \"heroes\", \"mecano\", \"raffaella\"]\n",
        "F0_METHOD = \"dio\" #param [\"crepe\", \"crepe-tiny\", \"parselmouth\", \"dio\", \"harvest\"]"
      ],
      "metadata": {
        "id": "9ViDvqCA_aD8"
      },
      "execution_count": null,
      "outputs": []
    },
    {
      "cell_type": "code",
      "execution_count": null,
      "metadata": {
        "id": "t8yahfMR92Z2"
      },
      "outputs": [],
      "source": [
        "split = False\n",
        "\n",
        "if split:\n",
        "  !cp -R /content/drive/MyDrive/so-vits-svc-fork/dataset_raw_raw/{DATASET_NAME}/ -t \"dataset_raw_raw/\"\n",
        "  !svc pre-split\n",
        "  !zip {DATASET_NAME}_raw.zip dataset_raw/{DATASET_NAME}/*\n",
        "  files.download(f\"{DATASET_NAME}_raw.zip\")\n",
        "else:\n",
        "  !cp -R /content/drive/MyDrive/so-vits-svc-fork/dataset_raw/{DATASET_NAME}/ -t \"dataset_raw/\"\n",
        "\n",
        "!svc pre-resample\n",
        "!svc pre-config\n",
        "!svc pre-hubert -fm {F0_METHOD}"
      ]
    },
    {
      "cell_type": "code",
      "execution_count": null,
      "metadata": {
        "id": "39cuLBL892Z2"
      },
      "outputs": [],
      "source": [
        "!cp -R configs/44k/config.json drive/MyDrive/so-vits-svc-fork"
      ]
    },
    {
      "cell_type": "markdown",
      "source": [
        "# Entrenamiento: Ojo, que machaca el anterior"
      ],
      "metadata": {
        "id": "td_JDKdiTyVQ"
      }
    },
    {
      "cell_type": "code",
      "execution_count": null,
      "metadata": {
        "id": "lKB3gECv92Z3"
      },
      "outputs": [],
      "source": [
        "%load_ext tensorboard\n",
        "%tensorboard --logdir drive/MyDrive/so-vits-svc-fork/logs/{DATASET_NAME}/44k\n",
        "!svc train --model-path drive/MyDrive/so-vits-svc-fork/logs/{DATASET_NAME}/44k"
      ]
    },
    {
      "cell_type": "markdown",
      "metadata": {
        "id": "i3REcjSk92Z3"
      },
      "source": [
        "## Inferencia"
      ]
    },
    {
      "cell_type": "code",
      "source": [
        "from IPython.display import Audio, display"
      ],
      "metadata": {
        "id": "iKoR5oP5MK2K"
      },
      "execution_count": null,
      "outputs": []
    },
    {
      "cell_type": "code",
      "source": [
        "NAME = \"original_3\" #@param [\"original_1\", \"original_2\", \"original_3\", \"original_4\", \"original_5\", \"original_6\", \"original_7\", \"original_8\"]\n",
        "F0_METHOD = \"crepe\" #@param [\"crepe\", \"crepe-tiny\", \"parselmouth\", \"dio\", \"harvest\"]\n",
        "TRANSPOSE = 0 #@param [-12,0,12]\n",
        "\n",
        "\n",
        "!svc infer drive/MyDrive/so-vits-svc-fork/audio/{NAME}.wav -na -fm {F0_METHOD} -t {TRANSPOSE} -o drive/MyDrive/so-vits-svc-fork/audio/{NAME}.{DATASET_NAME}.wav -m drive/MyDrive/so-vits-svc-fork/logs/{DATASET_NAME}/44k/ -c drive/MyDrive/so-vits-svc-fork/logs/{DATASET_NAME}/44k/config.json\n",
        "display(Audio(f\"drive/MyDrive/so-vits-svc-fork/audio/{NAME}.{DATASET_NAME}.wav\", autoplay=True))"
      ],
      "metadata": {
        "id": "AcXcbj4n3M9T"
      },
      "execution_count": null,
      "outputs": []
    }
  ],
  "metadata": {
    "accelerator": "GPU",
    "colab": {
      "provenance": [],
      "machine_shape": "hm",
      "gpuType": "V100"
    },
    "kernelspec": {
      "display_name": "Python 3",
      "name": "python3"
    },
    "language_info": {
      "codemirror_mode": {
        "name": "ipython",
        "version": 3
      },
      "file_extension": ".py",
      "mimetype": "text/x-python",
      "name": "python",
      "nbconvert_exporter": "python",
      "pygments_lexer": "ipython3"
    }
  },
  "nbformat": 4,
  "nbformat_minor": 0
}