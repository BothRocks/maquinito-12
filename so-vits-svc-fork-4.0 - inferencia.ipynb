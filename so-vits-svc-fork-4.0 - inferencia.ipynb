{
  "cells": [
    {
      "cell_type": "markdown",
      "metadata": {
        "id": "x42hYArwGnYT"
      },
      "source": [
        "# so-vits-svc - Inferencia\n",
        "Código para clonar voces. Este colab no incluye el código de entrenamiento, sólo inferencia.\n",
        "\n",
        "Basado en el código de https://github.com/voicepaw/so-vits-svc-fork"
      ]
    },
    {
      "cell_type": "markdown",
      "metadata": {
        "id": "i3REcjSk92Z3"
      },
      "source": [
        "### Preparación del entorno"
      ]
    },
    {
      "cell_type": "code",
      "execution_count": null,
      "metadata": {
        "id": "pUxnE8WI92Zz"
      },
      "outputs": [],
      "source": [
        "!nvidia-smi"
      ]
    },
    {
      "cell_type": "code",
      "execution_count": null,
      "metadata": {
        "id": "a5D7mWJE92Zz"
      },
      "outputs": [],
      "source": [
        "!python -m pip install -U pip wheel\n",
        "%pip install -U ipython\n",
        "%pip install -U so-vits-svc-fork\n",
        "\n",
        "from IPython.display import clear_output\n",
        "clear_output()\n",
        "\n",
        "from IPython.display import Audio, display"
      ]
    },
    {
      "cell_type": "markdown",
      "metadata": {
        "id": "KmpY1JV9GnYW"
      },
      "source": [
        "## Inferencia"
      ]
    },
    {
      "cell_type": "code",
      "execution_count": null,
      "metadata": {
        "id": "9ViDvqCA_aD8"
      },
      "outputs": [],
      "source": [
        "clear_output()\n",
        "\n",
        "DATASET_NAME = \"mecano\" #@param [\"felipevi\", \"heroes\", \"mecano\", \"raffaella\"]\n",
        "\n",
        "!wget -N \"https://both.rocks/maquinito-12/models/{DATASET_NAME}/{DATASET_NAME}.pth\"\n",
        "!wget -N \"https://both.rocks/maquinito-12/models/{DATASET_NAME}/config.json\"\n"
      ]
    },
    {
      "cell_type": "markdown",
      "source": [
        "### Usa uno de nuestros audios\n",
        "1. Fragmeto de audiolibro\n",
        "2. Discurso de Navidad\n",
        "3. Smells like teen spirit\n",
        "4. Over the rainbow\n",
        "5. Chiquito\n",
        "6. Despechá\n",
        "7. Programa en espiral\n",
        "8. Selector de frecuencias\n"
      ],
      "metadata": {
        "id": "YgXXwyK3MCla"
      }
    },
    {
      "cell_type": "code",
      "execution_count": null,
      "metadata": {
        "id": "AcXcbj4n3M9T"
      },
      "outputs": [],
      "source": [
        "clear_output()\n",
        "\n",
        "NAME = \"original_3\" #@param [\"original_1\", \"original_2\", \"original_3\", \"original_4\", \"original_5\", \"original_6\", \"original_7\", \"original_8\"]\n",
        "TRANSPOSE = \"12\" #@param [-12,0,12]\n",
        "F0_METHOD = \"crepe\" #@param [\"crepe\", \"parselmouth\", \"dio\", \"harvest\"]\n",
        "\n",
        "!wget -N \"https://both.rocks/maquinito-12/examples/{NAME}.wav\"\n",
        "!svc infer {NAME}.wav -na -fm {F0_METHOD} -t {TRANSPOSE} -o {NAME}.{DATASET_NAME}.wav -m {DATASET_NAME}.pth -c config.json\n",
        "display(Audio(f\"{NAME}.{DATASET_NAME}.wav\", autoplay=True))"
      ]
    },
    {
      "cell_type": "markdown",
      "source": [
        "### Usa tu propio audio"
      ],
      "metadata": {
        "id": "F74F9tzBMGmZ"
      }
    },
    {
      "cell_type": "code",
      "source": [
        "clear_output()\n",
        "\n",
        "TRANSPOSE = \"0\" #@param [-12,0,12]\n",
        "F0_METHOD = \"crepe\" #@param [\"crepe\", \"parselmouth\", \"dio\", \"harvest\"]\n",
        "\n",
        "!svc infer {NAME}.wav -na -fm {F0_METHOD} -t {TRANSPOSE} -o {NAME}.{DATASET_NAME}.wav -m {DATASET_NAME}.pth -c config.json\n",
        "display(Audio(f\"{NAME}.{DATASET_NAME}.wav\", autoplay=True))"
      ],
      "metadata": {
        "id": "vW8RD8wOMJlC"
      },
      "execution_count": null,
      "outputs": []
    }
  ],
  "metadata": {
    "accelerator": "GPU",
    "colab": {
      "gpuType": "T4",
      "machine_shape": "hm",
      "provenance": []
    },
    "kernelspec": {
      "display_name": "Python 3",
      "name": "python3"
    },
    "language_info": {
      "codemirror_mode": {
        "name": "ipython",
        "version": 3
      },
      "file_extension": ".py",
      "mimetype": "text/x-python",
      "name": "python",
      "nbconvert_exporter": "python",
      "pygments_lexer": "ipython3"
    }
  },
  "nbformat": 4,
  "nbformat_minor": 0
}
